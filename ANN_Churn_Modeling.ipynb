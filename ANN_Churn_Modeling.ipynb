{
  "nbformat": 4,
  "nbformat_minor": 0,
  "metadata": {
    "colab": {
      "name": "ANN-Churn Modeling",
      "provenance": []
    },
    "kernelspec": {
      "name": "python3",
      "display_name": "Python 3"
    }
  },
  "cells": [
    {
      "cell_type": "code",
      "metadata": {
        "id": "j_bl4KsdRAJE",
        "colab_type": "code",
        "colab": {}
      },
      "source": [
        "import pandas as pd\n",
        "import numpy as np\n",
        "\n",
        "data = pd.read_csv(\"/content/drive/My Drive/Colab Notebooks/Churn_Modelling.csv\")"
      ],
      "execution_count": 18,
      "outputs": []
    },
    {
      "cell_type": "code",
      "metadata": {
        "id": "-2sk4dMWRmyI",
        "colab_type": "code",
        "colab": {
          "base_uri": "https://localhost:8080/",
          "height": 195
        },
        "outputId": "f2effb6a-7894-4711-e19e-dcdd795fcc95"
      },
      "source": [
        "data.head()"
      ],
      "execution_count": 19,
      "outputs": [
        {
          "output_type": "execute_result",
          "data": {
            "text/html": [
              "<div>\n",
              "<style scoped>\n",
              "    .dataframe tbody tr th:only-of-type {\n",
              "        vertical-align: middle;\n",
              "    }\n",
              "\n",
              "    .dataframe tbody tr th {\n",
              "        vertical-align: top;\n",
              "    }\n",
              "\n",
              "    .dataframe thead th {\n",
              "        text-align: right;\n",
              "    }\n",
              "</style>\n",
              "<table border=\"1\" class=\"dataframe\">\n",
              "  <thead>\n",
              "    <tr style=\"text-align: right;\">\n",
              "      <th></th>\n",
              "      <th>RowNumber</th>\n",
              "      <th>CustomerId</th>\n",
              "      <th>Surname</th>\n",
              "      <th>CreditScore</th>\n",
              "      <th>Geography</th>\n",
              "      <th>Gender</th>\n",
              "      <th>Age</th>\n",
              "      <th>Tenure</th>\n",
              "      <th>Balance</th>\n",
              "      <th>NumOfProducts</th>\n",
              "      <th>HasCrCard</th>\n",
              "      <th>IsActiveMember</th>\n",
              "      <th>EstimatedSalary</th>\n",
              "      <th>Exited</th>\n",
              "    </tr>\n",
              "  </thead>\n",
              "  <tbody>\n",
              "    <tr>\n",
              "      <th>0</th>\n",
              "      <td>1</td>\n",
              "      <td>15634602</td>\n",
              "      <td>Hargrave</td>\n",
              "      <td>619</td>\n",
              "      <td>France</td>\n",
              "      <td>Female</td>\n",
              "      <td>42</td>\n",
              "      <td>2</td>\n",
              "      <td>0.00</td>\n",
              "      <td>1</td>\n",
              "      <td>1</td>\n",
              "      <td>1</td>\n",
              "      <td>101348.88</td>\n",
              "      <td>1</td>\n",
              "    </tr>\n",
              "    <tr>\n",
              "      <th>1</th>\n",
              "      <td>2</td>\n",
              "      <td>15647311</td>\n",
              "      <td>Hill</td>\n",
              "      <td>608</td>\n",
              "      <td>Spain</td>\n",
              "      <td>Female</td>\n",
              "      <td>41</td>\n",
              "      <td>1</td>\n",
              "      <td>83807.86</td>\n",
              "      <td>1</td>\n",
              "      <td>0</td>\n",
              "      <td>1</td>\n",
              "      <td>112542.58</td>\n",
              "      <td>0</td>\n",
              "    </tr>\n",
              "    <tr>\n",
              "      <th>2</th>\n",
              "      <td>3</td>\n",
              "      <td>15619304</td>\n",
              "      <td>Onio</td>\n",
              "      <td>502</td>\n",
              "      <td>France</td>\n",
              "      <td>Female</td>\n",
              "      <td>42</td>\n",
              "      <td>8</td>\n",
              "      <td>159660.80</td>\n",
              "      <td>3</td>\n",
              "      <td>1</td>\n",
              "      <td>0</td>\n",
              "      <td>113931.57</td>\n",
              "      <td>1</td>\n",
              "    </tr>\n",
              "    <tr>\n",
              "      <th>3</th>\n",
              "      <td>4</td>\n",
              "      <td>15701354</td>\n",
              "      <td>Boni</td>\n",
              "      <td>699</td>\n",
              "      <td>France</td>\n",
              "      <td>Female</td>\n",
              "      <td>39</td>\n",
              "      <td>1</td>\n",
              "      <td>0.00</td>\n",
              "      <td>2</td>\n",
              "      <td>0</td>\n",
              "      <td>0</td>\n",
              "      <td>93826.63</td>\n",
              "      <td>0</td>\n",
              "    </tr>\n",
              "    <tr>\n",
              "      <th>4</th>\n",
              "      <td>5</td>\n",
              "      <td>15737888</td>\n",
              "      <td>Mitchell</td>\n",
              "      <td>850</td>\n",
              "      <td>Spain</td>\n",
              "      <td>Female</td>\n",
              "      <td>43</td>\n",
              "      <td>2</td>\n",
              "      <td>125510.82</td>\n",
              "      <td>1</td>\n",
              "      <td>1</td>\n",
              "      <td>1</td>\n",
              "      <td>79084.10</td>\n",
              "      <td>0</td>\n",
              "    </tr>\n",
              "  </tbody>\n",
              "</table>\n",
              "</div>"
            ],
            "text/plain": [
              "   RowNumber  CustomerId   Surname  ...  IsActiveMember EstimatedSalary Exited\n",
              "0          1    15634602  Hargrave  ...               1       101348.88      1\n",
              "1          2    15647311      Hill  ...               1       112542.58      0\n",
              "2          3    15619304      Onio  ...               0       113931.57      1\n",
              "3          4    15701354      Boni  ...               0        93826.63      0\n",
              "4          5    15737888  Mitchell  ...               1        79084.10      0\n",
              "\n",
              "[5 rows x 14 columns]"
            ]
          },
          "metadata": {
            "tags": []
          },
          "execution_count": 19
        }
      ]
    },
    {
      "cell_type": "code",
      "metadata": {
        "id": "nWflG6rVRpFr",
        "colab_type": "code",
        "colab": {}
      },
      "source": [
        "data.drop([\"RowNumber\",\"CustomerId\",\"Surname\"],axis=1,inplace=True)"
      ],
      "execution_count": 20,
      "outputs": []
    },
    {
      "cell_type": "code",
      "metadata": {
        "id": "DWVXKPmySL4o",
        "colab_type": "code",
        "colab": {}
      },
      "source": [
        "from sklearn.preprocessing import LabelEncoder"
      ],
      "execution_count": 21,
      "outputs": []
    },
    {
      "cell_type": "code",
      "metadata": {
        "id": "X7-F0k88TB9k",
        "colab_type": "code",
        "colab": {
          "base_uri": "https://localhost:8080/",
          "height": 195
        },
        "outputId": "76125a0c-66b7-4e65-990c-a69b6d296639"
      },
      "source": [
        "data.head()"
      ],
      "execution_count": 22,
      "outputs": [
        {
          "output_type": "execute_result",
          "data": {
            "text/html": [
              "<div>\n",
              "<style scoped>\n",
              "    .dataframe tbody tr th:only-of-type {\n",
              "        vertical-align: middle;\n",
              "    }\n",
              "\n",
              "    .dataframe tbody tr th {\n",
              "        vertical-align: top;\n",
              "    }\n",
              "\n",
              "    .dataframe thead th {\n",
              "        text-align: right;\n",
              "    }\n",
              "</style>\n",
              "<table border=\"1\" class=\"dataframe\">\n",
              "  <thead>\n",
              "    <tr style=\"text-align: right;\">\n",
              "      <th></th>\n",
              "      <th>CreditScore</th>\n",
              "      <th>Geography</th>\n",
              "      <th>Gender</th>\n",
              "      <th>Age</th>\n",
              "      <th>Tenure</th>\n",
              "      <th>Balance</th>\n",
              "      <th>NumOfProducts</th>\n",
              "      <th>HasCrCard</th>\n",
              "      <th>IsActiveMember</th>\n",
              "      <th>EstimatedSalary</th>\n",
              "      <th>Exited</th>\n",
              "    </tr>\n",
              "  </thead>\n",
              "  <tbody>\n",
              "    <tr>\n",
              "      <th>0</th>\n",
              "      <td>619</td>\n",
              "      <td>France</td>\n",
              "      <td>Female</td>\n",
              "      <td>42</td>\n",
              "      <td>2</td>\n",
              "      <td>0.00</td>\n",
              "      <td>1</td>\n",
              "      <td>1</td>\n",
              "      <td>1</td>\n",
              "      <td>101348.88</td>\n",
              "      <td>1</td>\n",
              "    </tr>\n",
              "    <tr>\n",
              "      <th>1</th>\n",
              "      <td>608</td>\n",
              "      <td>Spain</td>\n",
              "      <td>Female</td>\n",
              "      <td>41</td>\n",
              "      <td>1</td>\n",
              "      <td>83807.86</td>\n",
              "      <td>1</td>\n",
              "      <td>0</td>\n",
              "      <td>1</td>\n",
              "      <td>112542.58</td>\n",
              "      <td>0</td>\n",
              "    </tr>\n",
              "    <tr>\n",
              "      <th>2</th>\n",
              "      <td>502</td>\n",
              "      <td>France</td>\n",
              "      <td>Female</td>\n",
              "      <td>42</td>\n",
              "      <td>8</td>\n",
              "      <td>159660.80</td>\n",
              "      <td>3</td>\n",
              "      <td>1</td>\n",
              "      <td>0</td>\n",
              "      <td>113931.57</td>\n",
              "      <td>1</td>\n",
              "    </tr>\n",
              "    <tr>\n",
              "      <th>3</th>\n",
              "      <td>699</td>\n",
              "      <td>France</td>\n",
              "      <td>Female</td>\n",
              "      <td>39</td>\n",
              "      <td>1</td>\n",
              "      <td>0.00</td>\n",
              "      <td>2</td>\n",
              "      <td>0</td>\n",
              "      <td>0</td>\n",
              "      <td>93826.63</td>\n",
              "      <td>0</td>\n",
              "    </tr>\n",
              "    <tr>\n",
              "      <th>4</th>\n",
              "      <td>850</td>\n",
              "      <td>Spain</td>\n",
              "      <td>Female</td>\n",
              "      <td>43</td>\n",
              "      <td>2</td>\n",
              "      <td>125510.82</td>\n",
              "      <td>1</td>\n",
              "      <td>1</td>\n",
              "      <td>1</td>\n",
              "      <td>79084.10</td>\n",
              "      <td>0</td>\n",
              "    </tr>\n",
              "  </tbody>\n",
              "</table>\n",
              "</div>"
            ],
            "text/plain": [
              "   CreditScore Geography  Gender  ...  IsActiveMember  EstimatedSalary  Exited\n",
              "0          619    France  Female  ...               1        101348.88       1\n",
              "1          608     Spain  Female  ...               1        112542.58       0\n",
              "2          502    France  Female  ...               0        113931.57       1\n",
              "3          699    France  Female  ...               0         93826.63       0\n",
              "4          850     Spain  Female  ...               1         79084.10       0\n",
              "\n",
              "[5 rows x 11 columns]"
            ]
          },
          "metadata": {
            "tags": []
          },
          "execution_count": 22
        }
      ]
    },
    {
      "cell_type": "code",
      "metadata": {
        "id": "cjWhvmWrSNNj",
        "colab_type": "code",
        "colab": {}
      },
      "source": [
        "Le= LabelEncoder()\n",
        "data[\"Gender\"]= Le.fit_transform(data[\"Gender\"])"
      ],
      "execution_count": 23,
      "outputs": []
    },
    {
      "cell_type": "code",
      "metadata": {
        "id": "LK9Ya0lXSnPT",
        "colab_type": "code",
        "colab": {}
      },
      "source": [
        "#One Hot Encoding\n",
        "Geo = pd.get_dummies(data[\"Geography\"],drop_first=True)"
      ],
      "execution_count": 29,
      "outputs": []
    },
    {
      "cell_type": "code",
      "metadata": {
        "id": "NdpgQIzVSxEu",
        "colab_type": "code",
        "colab": {}
      },
      "source": [
        "data = pd.concat([data,Geo],axis=1)"
      ],
      "execution_count": 35,
      "outputs": []
    },
    {
      "cell_type": "code",
      "metadata": {
        "id": "uHiKfhxpTdnO",
        "colab_type": "code",
        "colab": {}
      },
      "source": [
        "X= data.iloc[:,0:9]"
      ],
      "execution_count": 42,
      "outputs": []
    },
    {
      "cell_type": "code",
      "metadata": {
        "id": "UegAOu8DU42E",
        "colab_type": "code",
        "colab": {}
      },
      "source": [
        "X = pd.concat([X,Geo],axis=1)"
      ],
      "execution_count": 43,
      "outputs": []
    },
    {
      "cell_type": "code",
      "metadata": {
        "id": "nJ-Q8qRbVbKD",
        "colab_type": "code",
        "colab": {}
      },
      "source": [
        "X.drop(\"Geography\",axis=1,inplace=True)"
      ],
      "execution_count": 45,
      "outputs": []
    },
    {
      "cell_type": "code",
      "metadata": {
        "id": "cdBM5P8zcX-x",
        "colab_type": "code",
        "colab": {
          "base_uri": "https://localhost:8080/",
          "height": 402
        },
        "outputId": "52ea3458-d690-44a5-ec8c-5540e7409cc9"
      },
      "source": [
        "X"
      ],
      "execution_count": 69,
      "outputs": [
        {
          "output_type": "execute_result",
          "data": {
            "text/html": [
              "<div>\n",
              "<style scoped>\n",
              "    .dataframe tbody tr th:only-of-type {\n",
              "        vertical-align: middle;\n",
              "    }\n",
              "\n",
              "    .dataframe tbody tr th {\n",
              "        vertical-align: top;\n",
              "    }\n",
              "\n",
              "    .dataframe thead th {\n",
              "        text-align: right;\n",
              "    }\n",
              "</style>\n",
              "<table border=\"1\" class=\"dataframe\">\n",
              "  <thead>\n",
              "    <tr style=\"text-align: right;\">\n",
              "      <th></th>\n",
              "      <th>CreditScore</th>\n",
              "      <th>Gender</th>\n",
              "      <th>Age</th>\n",
              "      <th>Tenure</th>\n",
              "      <th>Balance</th>\n",
              "      <th>NumOfProducts</th>\n",
              "      <th>HasCrCard</th>\n",
              "      <th>IsActiveMember</th>\n",
              "      <th>Germany</th>\n",
              "      <th>Spain</th>\n",
              "    </tr>\n",
              "  </thead>\n",
              "  <tbody>\n",
              "    <tr>\n",
              "      <th>0</th>\n",
              "      <td>619</td>\n",
              "      <td>0</td>\n",
              "      <td>42</td>\n",
              "      <td>2</td>\n",
              "      <td>0.00</td>\n",
              "      <td>1</td>\n",
              "      <td>1</td>\n",
              "      <td>1</td>\n",
              "      <td>0</td>\n",
              "      <td>0</td>\n",
              "    </tr>\n",
              "    <tr>\n",
              "      <th>1</th>\n",
              "      <td>608</td>\n",
              "      <td>0</td>\n",
              "      <td>41</td>\n",
              "      <td>1</td>\n",
              "      <td>83807.86</td>\n",
              "      <td>1</td>\n",
              "      <td>0</td>\n",
              "      <td>1</td>\n",
              "      <td>0</td>\n",
              "      <td>1</td>\n",
              "    </tr>\n",
              "    <tr>\n",
              "      <th>2</th>\n",
              "      <td>502</td>\n",
              "      <td>0</td>\n",
              "      <td>42</td>\n",
              "      <td>8</td>\n",
              "      <td>159660.80</td>\n",
              "      <td>3</td>\n",
              "      <td>1</td>\n",
              "      <td>0</td>\n",
              "      <td>0</td>\n",
              "      <td>0</td>\n",
              "    </tr>\n",
              "    <tr>\n",
              "      <th>3</th>\n",
              "      <td>699</td>\n",
              "      <td>0</td>\n",
              "      <td>39</td>\n",
              "      <td>1</td>\n",
              "      <td>0.00</td>\n",
              "      <td>2</td>\n",
              "      <td>0</td>\n",
              "      <td>0</td>\n",
              "      <td>0</td>\n",
              "      <td>0</td>\n",
              "    </tr>\n",
              "    <tr>\n",
              "      <th>4</th>\n",
              "      <td>850</td>\n",
              "      <td>0</td>\n",
              "      <td>43</td>\n",
              "      <td>2</td>\n",
              "      <td>125510.82</td>\n",
              "      <td>1</td>\n",
              "      <td>1</td>\n",
              "      <td>1</td>\n",
              "      <td>0</td>\n",
              "      <td>1</td>\n",
              "    </tr>\n",
              "    <tr>\n",
              "      <th>...</th>\n",
              "      <td>...</td>\n",
              "      <td>...</td>\n",
              "      <td>...</td>\n",
              "      <td>...</td>\n",
              "      <td>...</td>\n",
              "      <td>...</td>\n",
              "      <td>...</td>\n",
              "      <td>...</td>\n",
              "      <td>...</td>\n",
              "      <td>...</td>\n",
              "    </tr>\n",
              "    <tr>\n",
              "      <th>9995</th>\n",
              "      <td>771</td>\n",
              "      <td>1</td>\n",
              "      <td>39</td>\n",
              "      <td>5</td>\n",
              "      <td>0.00</td>\n",
              "      <td>2</td>\n",
              "      <td>1</td>\n",
              "      <td>0</td>\n",
              "      <td>0</td>\n",
              "      <td>0</td>\n",
              "    </tr>\n",
              "    <tr>\n",
              "      <th>9996</th>\n",
              "      <td>516</td>\n",
              "      <td>1</td>\n",
              "      <td>35</td>\n",
              "      <td>10</td>\n",
              "      <td>57369.61</td>\n",
              "      <td>1</td>\n",
              "      <td>1</td>\n",
              "      <td>1</td>\n",
              "      <td>0</td>\n",
              "      <td>0</td>\n",
              "    </tr>\n",
              "    <tr>\n",
              "      <th>9997</th>\n",
              "      <td>709</td>\n",
              "      <td>0</td>\n",
              "      <td>36</td>\n",
              "      <td>7</td>\n",
              "      <td>0.00</td>\n",
              "      <td>1</td>\n",
              "      <td>0</td>\n",
              "      <td>1</td>\n",
              "      <td>0</td>\n",
              "      <td>0</td>\n",
              "    </tr>\n",
              "    <tr>\n",
              "      <th>9998</th>\n",
              "      <td>772</td>\n",
              "      <td>1</td>\n",
              "      <td>42</td>\n",
              "      <td>3</td>\n",
              "      <td>75075.31</td>\n",
              "      <td>2</td>\n",
              "      <td>1</td>\n",
              "      <td>0</td>\n",
              "      <td>1</td>\n",
              "      <td>0</td>\n",
              "    </tr>\n",
              "    <tr>\n",
              "      <th>9999</th>\n",
              "      <td>792</td>\n",
              "      <td>0</td>\n",
              "      <td>28</td>\n",
              "      <td>4</td>\n",
              "      <td>130142.79</td>\n",
              "      <td>1</td>\n",
              "      <td>1</td>\n",
              "      <td>0</td>\n",
              "      <td>0</td>\n",
              "      <td>0</td>\n",
              "    </tr>\n",
              "  </tbody>\n",
              "</table>\n",
              "<p>10000 rows × 10 columns</p>\n",
              "</div>"
            ],
            "text/plain": [
              "      CreditScore  Gender  Age  ...  IsActiveMember  Germany  Spain\n",
              "0             619       0   42  ...               1        0      0\n",
              "1             608       0   41  ...               1        0      1\n",
              "2             502       0   42  ...               0        0      0\n",
              "3             699       0   39  ...               0        0      0\n",
              "4             850       0   43  ...               1        0      1\n",
              "...           ...     ...  ...  ...             ...      ...    ...\n",
              "9995          771       1   39  ...               0        0      0\n",
              "9996          516       1   35  ...               1        0      0\n",
              "9997          709       0   36  ...               1        0      0\n",
              "9998          772       1   42  ...               0        1      0\n",
              "9999          792       0   28  ...               0        0      0\n",
              "\n",
              "[10000 rows x 10 columns]"
            ]
          },
          "metadata": {
            "tags": []
          },
          "execution_count": 69
        }
      ]
    },
    {
      "cell_type": "code",
      "metadata": {
        "id": "UFBpX9tmV4mC",
        "colab_type": "code",
        "colab": {}
      },
      "source": [
        "Y = data.iloc[:,10]"
      ],
      "execution_count": 46,
      "outputs": []
    },
    {
      "cell_type": "code",
      "metadata": {
        "id": "P4jRjnYLWHes",
        "colab_type": "code",
        "colab": {}
      },
      "source": [
        "from sklearn.model_selection import train_test_split\n",
        "\n",
        "X_train, X_test, y_train, y_test = train_test_split(X, Y, test_size = 0.2, random_state = 0)"
      ],
      "execution_count": 48,
      "outputs": []
    },
    {
      "cell_type": "code",
      "metadata": {
        "id": "GGfotoYoWIKk",
        "colab_type": "code",
        "colab": {}
      },
      "source": [
        "from sklearn.preprocessing import StandardScaler\n",
        "sc= StandardScaler()\n",
        "X_train = sc.fit_transform(X_train)\n",
        "X_test = sc.transform(X_test)"
      ],
      "execution_count": 49,
      "outputs": []
    },
    {
      "cell_type": "code",
      "metadata": {
        "id": "526ECUQeXGPW",
        "colab_type": "code",
        "colab": {}
      },
      "source": [
        "import keras\n",
        "from keras.models import Sequential\n",
        "from keras.layers import Dense\n",
        "#from keras.layers import LeakyReLU,PReLU,ELU\n",
        "from keras.layers import Dropout"
      ],
      "execution_count": 62,
      "outputs": []
    },
    {
      "cell_type": "code",
      "metadata": {
        "id": "Wtneco6_YJd1",
        "colab_type": "code",
        "colab": {}
      },
      "source": [
        "classifer = Sequential() #intialisingthe ANN"
      ],
      "execution_count": 78,
      "outputs": []
    },
    {
      "cell_type": "code",
      "metadata": {
        "id": "mPch8hliYSU1",
        "colab_type": "code",
        "colab": {}
      },
      "source": [
        "#first Hidden Layer\n",
        "classifer.add(Dense(units=6,kernel_initializer=\"he_uniform\", activation=\"relu\", input_dim = 10))\n",
        "#classifer.add(Dropout(0.3))"
      ],
      "execution_count": 89,
      "outputs": []
    },
    {
      "cell_type": "code",
      "metadata": {
        "id": "40JqZIvife4s",
        "colab_type": "code",
        "colab": {}
      },
      "source": [
        ""
      ],
      "execution_count": null,
      "outputs": []
    },
    {
      "cell_type": "code",
      "metadata": {
        "id": "ZZ9AL1cwZE3r",
        "colab_type": "code",
        "colab": {}
      },
      "source": [
        "#secound hidden layer\n",
        "classifer.add(Dense(units=6, kernel_initializer= \"he_uniform\", activation=\"relu\"))\n",
        "#classifer.add(Dropout(0.4))"
      ],
      "execution_count": 80,
      "outputs": []
    },
    {
      "cell_type": "code",
      "metadata": {
        "id": "IVsKSc76ZSpr",
        "colab_type": "code",
        "colab": {}
      },
      "source": [
        "#adding outputlayer\n",
        "classifer.add(Dense(units= 1, kernel_initializer= \"glorot_uniform\", activation=\"sigmoid\"))"
      ],
      "execution_count": 81,
      "outputs": []
    },
    {
      "cell_type": "code",
      "metadata": {
        "id": "IB1UIouHaFF4",
        "colab_type": "code",
        "colab": {}
      },
      "source": [
        "#compling ANN\n",
        "\n",
        "classifer.compile(optimizer=\"Adamax\", loss = \"binary_crossentropy\", metrics= [\"accuracy\"])"
      ],
      "execution_count": 82,
      "outputs": []
    },
    {
      "cell_type": "code",
      "metadata": {
        "id": "1cErJTTCbbq1",
        "colab_type": "code",
        "colab": {
          "base_uri": "https://localhost:8080/",
          "height": 1000
        },
        "outputId": "020eec34-8f20-4a5e-ac51-a7e7824b707a"
      },
      "source": [
        "model_history = classifer.fit(X_train,y_train,validation_split=0.33,epochs= 100)"
      ],
      "execution_count": 83,
      "outputs": [
        {
          "output_type": "stream",
          "text": [
            "Epoch 1/100\n",
            "168/168 [==============================] - 0s 2ms/step - loss: 0.6767 - accuracy: 0.6344 - val_loss: 0.6042 - val_accuracy: 0.7573\n",
            "Epoch 2/100\n",
            "168/168 [==============================] - 0s 2ms/step - loss: 0.5742 - accuracy: 0.7811 - val_loss: 0.5467 - val_accuracy: 0.7914\n",
            "Epoch 3/100\n",
            "168/168 [==============================] - 0s 2ms/step - loss: 0.5335 - accuracy: 0.7962 - val_loss: 0.5204 - val_accuracy: 0.7944\n",
            "Epoch 4/100\n",
            "168/168 [==============================] - 0s 2ms/step - loss: 0.5111 - accuracy: 0.7970 - val_loss: 0.5036 - val_accuracy: 0.7955\n",
            "Epoch 5/100\n",
            "168/168 [==============================] - 0s 2ms/step - loss: 0.4958 - accuracy: 0.7966 - val_loss: 0.4918 - val_accuracy: 0.7955\n",
            "Epoch 6/100\n",
            "168/168 [==============================] - 0s 2ms/step - loss: 0.4845 - accuracy: 0.7966 - val_loss: 0.4827 - val_accuracy: 0.7959\n",
            "Epoch 7/100\n",
            "168/168 [==============================] - 0s 1ms/step - loss: 0.4756 - accuracy: 0.7964 - val_loss: 0.4755 - val_accuracy: 0.7967\n",
            "Epoch 8/100\n",
            "168/168 [==============================] - 0s 2ms/step - loss: 0.4685 - accuracy: 0.7972 - val_loss: 0.4701 - val_accuracy: 0.7963\n",
            "Epoch 9/100\n",
            "168/168 [==============================] - 0s 2ms/step - loss: 0.4628 - accuracy: 0.7972 - val_loss: 0.4654 - val_accuracy: 0.7963\n",
            "Epoch 10/100\n",
            "168/168 [==============================] - 0s 2ms/step - loss: 0.4578 - accuracy: 0.7968 - val_loss: 0.4616 - val_accuracy: 0.7963\n",
            "Epoch 11/100\n",
            "168/168 [==============================] - 0s 2ms/step - loss: 0.4537 - accuracy: 0.7990 - val_loss: 0.4581 - val_accuracy: 0.7967\n",
            "Epoch 12/100\n",
            "168/168 [==============================] - 0s 2ms/step - loss: 0.4501 - accuracy: 0.7996 - val_loss: 0.4552 - val_accuracy: 0.7970\n",
            "Epoch 13/100\n",
            "168/168 [==============================] - 0s 2ms/step - loss: 0.4468 - accuracy: 0.8015 - val_loss: 0.4526 - val_accuracy: 0.7978\n",
            "Epoch 14/100\n",
            "168/168 [==============================] - 0s 2ms/step - loss: 0.4441 - accuracy: 0.8035 - val_loss: 0.4503 - val_accuracy: 0.7982\n",
            "Epoch 15/100\n",
            "168/168 [==============================] - 0s 2ms/step - loss: 0.4413 - accuracy: 0.8061 - val_loss: 0.4482 - val_accuracy: 0.8008\n",
            "Epoch 16/100\n",
            "168/168 [==============================] - 0s 2ms/step - loss: 0.4389 - accuracy: 0.8084 - val_loss: 0.4463 - val_accuracy: 0.8012\n",
            "Epoch 17/100\n",
            "168/168 [==============================] - 0s 2ms/step - loss: 0.4367 - accuracy: 0.8095 - val_loss: 0.4445 - val_accuracy: 0.8020\n",
            "Epoch 18/100\n",
            "168/168 [==============================] - 0s 1ms/step - loss: 0.4345 - accuracy: 0.8106 - val_loss: 0.4429 - val_accuracy: 0.8046\n",
            "Epoch 19/100\n",
            "168/168 [==============================] - 0s 2ms/step - loss: 0.4325 - accuracy: 0.8104 - val_loss: 0.4414 - val_accuracy: 0.8039\n",
            "Epoch 20/100\n",
            "168/168 [==============================] - 0s 1ms/step - loss: 0.4308 - accuracy: 0.8104 - val_loss: 0.4401 - val_accuracy: 0.8046\n",
            "Epoch 21/100\n",
            "168/168 [==============================] - 0s 2ms/step - loss: 0.4292 - accuracy: 0.8115 - val_loss: 0.4388 - val_accuracy: 0.8050\n",
            "Epoch 22/100\n",
            "168/168 [==============================] - 0s 2ms/step - loss: 0.4276 - accuracy: 0.8130 - val_loss: 0.4374 - val_accuracy: 0.8076\n",
            "Epoch 23/100\n",
            "168/168 [==============================] - 0s 2ms/step - loss: 0.4263 - accuracy: 0.8145 - val_loss: 0.4361 - val_accuracy: 0.8080\n",
            "Epoch 24/100\n",
            "168/168 [==============================] - 0s 2ms/step - loss: 0.4249 - accuracy: 0.8140 - val_loss: 0.4349 - val_accuracy: 0.8095\n",
            "Epoch 25/100\n",
            "168/168 [==============================] - 0s 1ms/step - loss: 0.4236 - accuracy: 0.8141 - val_loss: 0.4337 - val_accuracy: 0.8099\n",
            "Epoch 26/100\n",
            "168/168 [==============================] - 0s 2ms/step - loss: 0.4222 - accuracy: 0.8153 - val_loss: 0.4323 - val_accuracy: 0.8114\n",
            "Epoch 27/100\n",
            "168/168 [==============================] - 0s 2ms/step - loss: 0.4208 - accuracy: 0.8162 - val_loss: 0.4313 - val_accuracy: 0.8126\n",
            "Epoch 28/100\n",
            "168/168 [==============================] - 0s 2ms/step - loss: 0.4195 - accuracy: 0.8179 - val_loss: 0.4302 - val_accuracy: 0.8126\n",
            "Epoch 29/100\n",
            "168/168 [==============================] - 0s 2ms/step - loss: 0.4183 - accuracy: 0.8192 - val_loss: 0.4291 - val_accuracy: 0.8133\n",
            "Epoch 30/100\n",
            "168/168 [==============================] - 0s 2ms/step - loss: 0.4171 - accuracy: 0.8196 - val_loss: 0.4281 - val_accuracy: 0.8141\n",
            "Epoch 31/100\n",
            "168/168 [==============================] - 0s 2ms/step - loss: 0.4159 - accuracy: 0.8212 - val_loss: 0.4272 - val_accuracy: 0.8141\n",
            "Epoch 32/100\n",
            "168/168 [==============================] - 0s 2ms/step - loss: 0.4149 - accuracy: 0.8229 - val_loss: 0.4263 - val_accuracy: 0.8160\n",
            "Epoch 33/100\n",
            "168/168 [==============================] - 0s 2ms/step - loss: 0.4139 - accuracy: 0.8240 - val_loss: 0.4256 - val_accuracy: 0.8175\n",
            "Epoch 34/100\n",
            "168/168 [==============================] - 0s 2ms/step - loss: 0.4131 - accuracy: 0.8244 - val_loss: 0.4248 - val_accuracy: 0.8175\n",
            "Epoch 35/100\n",
            "168/168 [==============================] - 0s 1ms/step - loss: 0.4121 - accuracy: 0.8253 - val_loss: 0.4240 - val_accuracy: 0.8171\n",
            "Epoch 36/100\n",
            "168/168 [==============================] - 0s 1ms/step - loss: 0.4114 - accuracy: 0.8261 - val_loss: 0.4233 - val_accuracy: 0.8179\n",
            "Epoch 37/100\n",
            "168/168 [==============================] - 0s 2ms/step - loss: 0.4105 - accuracy: 0.8265 - val_loss: 0.4226 - val_accuracy: 0.8186\n",
            "Epoch 38/100\n",
            "168/168 [==============================] - 0s 2ms/step - loss: 0.4098 - accuracy: 0.8263 - val_loss: 0.4220 - val_accuracy: 0.8186\n",
            "Epoch 39/100\n",
            "168/168 [==============================] - 0s 2ms/step - loss: 0.4091 - accuracy: 0.8270 - val_loss: 0.4214 - val_accuracy: 0.8186\n",
            "Epoch 40/100\n",
            "168/168 [==============================] - 0s 1ms/step - loss: 0.4084 - accuracy: 0.8268 - val_loss: 0.4208 - val_accuracy: 0.8190\n",
            "Epoch 41/100\n",
            "168/168 [==============================] - 0s 2ms/step - loss: 0.4078 - accuracy: 0.8281 - val_loss: 0.4203 - val_accuracy: 0.8186\n",
            "Epoch 42/100\n",
            "168/168 [==============================] - 0s 2ms/step - loss: 0.4072 - accuracy: 0.8285 - val_loss: 0.4198 - val_accuracy: 0.8198\n",
            "Epoch 43/100\n",
            "168/168 [==============================] - 0s 2ms/step - loss: 0.4067 - accuracy: 0.8285 - val_loss: 0.4192 - val_accuracy: 0.8205\n",
            "Epoch 44/100\n",
            "168/168 [==============================] - 0s 2ms/step - loss: 0.4062 - accuracy: 0.8281 - val_loss: 0.4187 - val_accuracy: 0.8205\n",
            "Epoch 45/100\n",
            "168/168 [==============================] - 0s 2ms/step - loss: 0.4057 - accuracy: 0.8289 - val_loss: 0.4182 - val_accuracy: 0.8205\n",
            "Epoch 46/100\n",
            "168/168 [==============================] - 0s 2ms/step - loss: 0.4053 - accuracy: 0.8289 - val_loss: 0.4177 - val_accuracy: 0.8213\n",
            "Epoch 47/100\n",
            "168/168 [==============================] - 0s 2ms/step - loss: 0.4047 - accuracy: 0.8294 - val_loss: 0.4173 - val_accuracy: 0.8213\n",
            "Epoch 48/100\n",
            "168/168 [==============================] - 0s 2ms/step - loss: 0.4043 - accuracy: 0.8294 - val_loss: 0.4169 - val_accuracy: 0.8209\n",
            "Epoch 49/100\n",
            "168/168 [==============================] - 0s 2ms/step - loss: 0.4039 - accuracy: 0.8294 - val_loss: 0.4165 - val_accuracy: 0.8201\n",
            "Epoch 50/100\n",
            "168/168 [==============================] - 0s 2ms/step - loss: 0.4035 - accuracy: 0.8296 - val_loss: 0.4161 - val_accuracy: 0.8205\n",
            "Epoch 51/100\n",
            "168/168 [==============================] - 0s 2ms/step - loss: 0.4031 - accuracy: 0.8302 - val_loss: 0.4155 - val_accuracy: 0.8217\n",
            "Epoch 52/100\n",
            "168/168 [==============================] - 0s 2ms/step - loss: 0.4026 - accuracy: 0.8293 - val_loss: 0.4152 - val_accuracy: 0.8217\n",
            "Epoch 53/100\n",
            "168/168 [==============================] - 0s 2ms/step - loss: 0.4022 - accuracy: 0.8300 - val_loss: 0.4149 - val_accuracy: 0.8213\n",
            "Epoch 54/100\n",
            "168/168 [==============================] - 0s 2ms/step - loss: 0.4017 - accuracy: 0.8306 - val_loss: 0.4145 - val_accuracy: 0.8213\n",
            "Epoch 55/100\n",
            "168/168 [==============================] - 0s 1ms/step - loss: 0.4013 - accuracy: 0.8304 - val_loss: 0.4141 - val_accuracy: 0.8220\n",
            "Epoch 56/100\n",
            "168/168 [==============================] - 0s 1ms/step - loss: 0.4009 - accuracy: 0.8311 - val_loss: 0.4138 - val_accuracy: 0.8220\n",
            "Epoch 57/100\n",
            "168/168 [==============================] - 0s 2ms/step - loss: 0.4005 - accuracy: 0.8308 - val_loss: 0.4134 - val_accuracy: 0.8220\n",
            "Epoch 58/100\n",
            "168/168 [==============================] - 0s 1ms/step - loss: 0.4001 - accuracy: 0.8315 - val_loss: 0.4129 - val_accuracy: 0.8217\n",
            "Epoch 59/100\n",
            "168/168 [==============================] - 0s 1ms/step - loss: 0.3997 - accuracy: 0.8308 - val_loss: 0.4124 - val_accuracy: 0.8217\n",
            "Epoch 60/100\n",
            "168/168 [==============================] - 0s 2ms/step - loss: 0.3993 - accuracy: 0.8313 - val_loss: 0.4120 - val_accuracy: 0.8232\n",
            "Epoch 61/100\n",
            "168/168 [==============================] - 0s 2ms/step - loss: 0.3989 - accuracy: 0.8322 - val_loss: 0.4117 - val_accuracy: 0.8232\n",
            "Epoch 62/100\n",
            "168/168 [==============================] - 0s 2ms/step - loss: 0.3986 - accuracy: 0.8321 - val_loss: 0.4111 - val_accuracy: 0.8243\n",
            "Epoch 63/100\n",
            "168/168 [==============================] - 0s 1ms/step - loss: 0.3982 - accuracy: 0.8328 - val_loss: 0.4108 - val_accuracy: 0.8239\n",
            "Epoch 64/100\n",
            "168/168 [==============================] - 0s 1ms/step - loss: 0.3978 - accuracy: 0.8330 - val_loss: 0.4104 - val_accuracy: 0.8254\n",
            "Epoch 65/100\n",
            "168/168 [==============================] - 0s 2ms/step - loss: 0.3974 - accuracy: 0.8324 - val_loss: 0.4099 - val_accuracy: 0.8258\n",
            "Epoch 66/100\n",
            "168/168 [==============================] - 0s 1ms/step - loss: 0.3970 - accuracy: 0.8328 - val_loss: 0.4094 - val_accuracy: 0.8270\n",
            "Epoch 67/100\n",
            "168/168 [==============================] - 0s 2ms/step - loss: 0.3966 - accuracy: 0.8324 - val_loss: 0.4091 - val_accuracy: 0.8273\n",
            "Epoch 68/100\n",
            "168/168 [==============================] - 0s 2ms/step - loss: 0.3963 - accuracy: 0.8328 - val_loss: 0.4086 - val_accuracy: 0.8277\n",
            "Epoch 69/100\n",
            "168/168 [==============================] - 0s 2ms/step - loss: 0.3960 - accuracy: 0.8336 - val_loss: 0.4081 - val_accuracy: 0.8277\n",
            "Epoch 70/100\n",
            "168/168 [==============================] - 0s 2ms/step - loss: 0.3957 - accuracy: 0.8324 - val_loss: 0.4077 - val_accuracy: 0.8281\n",
            "Epoch 71/100\n",
            "168/168 [==============================] - 0s 2ms/step - loss: 0.3953 - accuracy: 0.8336 - val_loss: 0.4073 - val_accuracy: 0.8277\n",
            "Epoch 72/100\n",
            "168/168 [==============================] - 0s 2ms/step - loss: 0.3949 - accuracy: 0.8326 - val_loss: 0.4068 - val_accuracy: 0.8277\n",
            "Epoch 73/100\n",
            "168/168 [==============================] - 0s 2ms/step - loss: 0.3946 - accuracy: 0.8330 - val_loss: 0.4064 - val_accuracy: 0.8277\n",
            "Epoch 74/100\n",
            "168/168 [==============================] - 0s 1ms/step - loss: 0.3943 - accuracy: 0.8336 - val_loss: 0.4060 - val_accuracy: 0.8277\n",
            "Epoch 75/100\n",
            "168/168 [==============================] - 0s 2ms/step - loss: 0.3939 - accuracy: 0.8332 - val_loss: 0.4055 - val_accuracy: 0.8277\n",
            "Epoch 76/100\n",
            "168/168 [==============================] - 0s 2ms/step - loss: 0.3935 - accuracy: 0.8330 - val_loss: 0.4052 - val_accuracy: 0.8281\n",
            "Epoch 77/100\n",
            "168/168 [==============================] - 0s 2ms/step - loss: 0.3932 - accuracy: 0.8337 - val_loss: 0.4048 - val_accuracy: 0.8281\n",
            "Epoch 78/100\n",
            "168/168 [==============================] - 0s 2ms/step - loss: 0.3928 - accuracy: 0.8330 - val_loss: 0.4044 - val_accuracy: 0.8281\n",
            "Epoch 79/100\n",
            "168/168 [==============================] - 0s 2ms/step - loss: 0.3924 - accuracy: 0.8339 - val_loss: 0.4041 - val_accuracy: 0.8277\n",
            "Epoch 80/100\n",
            "168/168 [==============================] - 0s 2ms/step - loss: 0.3920 - accuracy: 0.8332 - val_loss: 0.4037 - val_accuracy: 0.8270\n",
            "Epoch 81/100\n",
            "168/168 [==============================] - 0s 2ms/step - loss: 0.3917 - accuracy: 0.8337 - val_loss: 0.4034 - val_accuracy: 0.8273\n",
            "Epoch 82/100\n",
            "168/168 [==============================] - 0s 2ms/step - loss: 0.3914 - accuracy: 0.8336 - val_loss: 0.4031 - val_accuracy: 0.8270\n",
            "Epoch 83/100\n",
            "168/168 [==============================] - 0s 2ms/step - loss: 0.3911 - accuracy: 0.8339 - val_loss: 0.4027 - val_accuracy: 0.8273\n",
            "Epoch 84/100\n",
            "168/168 [==============================] - 0s 2ms/step - loss: 0.3908 - accuracy: 0.8339 - val_loss: 0.4025 - val_accuracy: 0.8273\n",
            "Epoch 85/100\n",
            "168/168 [==============================] - 0s 2ms/step - loss: 0.3904 - accuracy: 0.8343 - val_loss: 0.4020 - val_accuracy: 0.8270\n",
            "Epoch 86/100\n",
            "168/168 [==============================] - 0s 1ms/step - loss: 0.3900 - accuracy: 0.8341 - val_loss: 0.4017 - val_accuracy: 0.8277\n",
            "Epoch 87/100\n",
            "168/168 [==============================] - 0s 2ms/step - loss: 0.3897 - accuracy: 0.8356 - val_loss: 0.4014 - val_accuracy: 0.8281\n",
            "Epoch 88/100\n",
            "168/168 [==============================] - 0s 1ms/step - loss: 0.3894 - accuracy: 0.8352 - val_loss: 0.4010 - val_accuracy: 0.8285\n",
            "Epoch 89/100\n",
            "168/168 [==============================] - 0s 1ms/step - loss: 0.3889 - accuracy: 0.8352 - val_loss: 0.4006 - val_accuracy: 0.8281\n",
            "Epoch 90/100\n",
            "168/168 [==============================] - 0s 1ms/step - loss: 0.3886 - accuracy: 0.8350 - val_loss: 0.4002 - val_accuracy: 0.8277\n",
            "Epoch 91/100\n",
            "168/168 [==============================] - 0s 2ms/step - loss: 0.3882 - accuracy: 0.8349 - val_loss: 0.3999 - val_accuracy: 0.8289\n",
            "Epoch 92/100\n",
            "168/168 [==============================] - 0s 2ms/step - loss: 0.3878 - accuracy: 0.8349 - val_loss: 0.3994 - val_accuracy: 0.8285\n",
            "Epoch 93/100\n",
            "168/168 [==============================] - 0s 1ms/step - loss: 0.3875 - accuracy: 0.8343 - val_loss: 0.3990 - val_accuracy: 0.8296\n",
            "Epoch 94/100\n",
            "168/168 [==============================] - 0s 1ms/step - loss: 0.3870 - accuracy: 0.8350 - val_loss: 0.3987 - val_accuracy: 0.8300\n",
            "Epoch 95/100\n",
            "168/168 [==============================] - 0s 2ms/step - loss: 0.3867 - accuracy: 0.8350 - val_loss: 0.3984 - val_accuracy: 0.8304\n",
            "Epoch 96/100\n",
            "168/168 [==============================] - 0s 2ms/step - loss: 0.3863 - accuracy: 0.8356 - val_loss: 0.3980 - val_accuracy: 0.8300\n",
            "Epoch 97/100\n",
            "168/168 [==============================] - 0s 2ms/step - loss: 0.3859 - accuracy: 0.8345 - val_loss: 0.3976 - val_accuracy: 0.8304\n",
            "Epoch 98/100\n",
            "168/168 [==============================] - 0s 2ms/step - loss: 0.3855 - accuracy: 0.8347 - val_loss: 0.3973 - val_accuracy: 0.8304\n",
            "Epoch 99/100\n",
            "168/168 [==============================] - 0s 2ms/step - loss: 0.3852 - accuracy: 0.8350 - val_loss: 0.3970 - val_accuracy: 0.8304\n",
            "Epoch 100/100\n",
            "168/168 [==============================] - 0s 1ms/step - loss: 0.3847 - accuracy: 0.8349 - val_loss: 0.3966 - val_accuracy: 0.8311\n"
          ],
          "name": "stdout"
        }
      ]
    },
    {
      "cell_type": "code",
      "metadata": {
        "id": "h-troDlnb8MC",
        "colab_type": "code",
        "colab": {}
      },
      "source": [
        "#predicting for text set\n",
        "\n",
        "y_pred = classifer.predict(X_test)\n",
        "y_pred = (y_pred > 0.5)"
      ],
      "execution_count": 84,
      "outputs": []
    },
    {
      "cell_type": "code",
      "metadata": {
        "id": "4Ur9X4aceakG",
        "colab_type": "code",
        "colab": {
          "base_uri": "https://localhost:8080/",
          "height": 134
        },
        "outputId": "550e5e82-6db4-41ba-f63d-7c376634eb77"
      },
      "source": [
        "y_pred"
      ],
      "execution_count": 85,
      "outputs": [
        {
          "output_type": "execute_result",
          "data": {
            "text/plain": [
              "array([[False],\n",
              "       [False],\n",
              "       [False],\n",
              "       ...,\n",
              "       [False],\n",
              "       [False],\n",
              "       [False]])"
            ]
          },
          "metadata": {
            "tags": []
          },
          "execution_count": 85
        }
      ]
    },
    {
      "cell_type": "code",
      "metadata": {
        "id": "zNciXDpFec16",
        "colab_type": "code",
        "colab": {
          "base_uri": "https://localhost:8080/",
          "height": 50
        },
        "outputId": "6ef8cf8f-3705-4ac5-a1ff-b4f2d5298ae4"
      },
      "source": [
        "from sklearn.metrics import confusion_matrix,accuracy_score\n",
        "\n",
        "cm = confusion_matrix(y_test,y_pred)\n",
        "cm"
      ],
      "execution_count": 87,
      "outputs": [
        {
          "output_type": "execute_result",
          "data": {
            "text/plain": [
              "array([[1541,   54],\n",
              "       [ 271,  134]])"
            ]
          },
          "metadata": {
            "tags": []
          },
          "execution_count": 87
        }
      ]
    },
    {
      "cell_type": "code",
      "metadata": {
        "id": "OVbRJ5EIepdQ",
        "colab_type": "code",
        "colab": {
          "base_uri": "https://localhost:8080/",
          "height": 34
        },
        "outputId": "af3b1fa0-227b-4c34-ce12-9977b045c42f"
      },
      "source": [
        "score= accuracy_score(y_pred,y_test)\n",
        "score"
      ],
      "execution_count": 88,
      "outputs": [
        {
          "output_type": "execute_result",
          "data": {
            "text/plain": [
              "0.8375"
            ]
          },
          "metadata": {
            "tags": []
          },
          "execution_count": 88
        }
      ]
    },
    {
      "cell_type": "code",
      "metadata": {
        "id": "BqDeUenTe4ES",
        "colab_type": "code",
        "colab": {
          "base_uri": "https://localhost:8080/",
          "height": 34
        },
        "outputId": "19be9efc-f505-4dc1-9e6e-52831a459c99"
      },
      "source": [
        "# list all data in history\n",
        "\n",
        "print(model_history.history.keys())"
      ],
      "execution_count": 90,
      "outputs": [
        {
          "output_type": "stream",
          "text": [
            "dict_keys(['loss', 'accuracy', 'val_loss', 'val_accuracy'])\n"
          ],
          "name": "stdout"
        }
      ]
    },
    {
      "cell_type": "code",
      "metadata": {
        "id": "XwnEP1xMiXuu",
        "colab_type": "code",
        "colab": {
          "base_uri": "https://localhost:8080/",
          "height": 295
        },
        "outputId": "80d61744-a55a-48ee-86e6-d97ca5f66417"
      },
      "source": [
        "# summarize history for accuracy\n",
        "import matplotlib.pyplot as plt\n",
        "plt.plot(model_history.history['accuracy'])\n",
        "plt.plot(model_history.history['val_accuracy'])\n",
        "plt.title('model accuracy')\n",
        "plt.ylabel('accuracy')\n",
        "plt.xlabel('epoch')\n",
        "plt.legend(['train', 'test'], loc='upper left')\n",
        "plt.show()"
      ],
      "execution_count": 95,
      "outputs": [
        {
          "output_type": "display_data",
          "data": {
            "image/png": "[encoded data removed]",
            "text/plain": [
              "<Figure size 432x288 with 1 Axes>"
            ]
          },
          "metadata": {
            "tags": [],
            "needs_background": "light"
          }
        }
      ]
    },
    {
      "cell_type": "code",
      "metadata": {
        "id": "WzxYUlQBibk7",
        "colab_type": "code",
        "colab": {
          "base_uri": "https://localhost:8080/",
          "height": 295
        },
        "outputId": "19b3f608-365a-447a-b1c0-833bb4c2b141"
      },
      "source": [
        "# summarize history for loss\n",
        "plt.plot(model_history.history['loss'])\n",
        "plt.plot(model_history.history['val_loss'])\n",
        "plt.title('model loss')\n",
        "plt.ylabel('loss')\n",
        "plt.xlabel('epoch')\n",
        "plt.legend(['train', 'test'], loc='upper left')\n",
        "plt.show()"
      ],
      "execution_count": 96,
      "outputs": [
        {
          "output_type": "display_data",
          "data": {
            "image/png": "[encoded data removed]",
            "text/plain": [
              "<Figure size 432x288 with 1 Axes>"
            ]
          },
          "metadata": {
            "tags": [],
            "needs_background": "light"
          }
        }
      ]
    },
    {
      "cell_type": "code",
      "metadata": {
        "id": "M7sIRl6_i3x2",
        "colab_type": "code",
        "colab": {}
      },
      "source": [
        ""
      ],
      "execution_count": null,
      "outputs": []
    }
  ]
}